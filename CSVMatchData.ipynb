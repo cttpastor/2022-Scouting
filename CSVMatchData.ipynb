{
 "cells": [
  {
   "cell_type": "code",
   "execution_count": 235,
   "metadata": {
    "collapsed": true
   },
   "outputs": [],
   "source": [
    "import tbapy\n",
    "import json,csv\n",
    "import pandas as pd\n",
    "import sklearn as sk\n",
    "import numpy as np\n",
    "import matplotlib.pyplot as plt\n",
    "import statistics as stat\n",
    "import scipy\n",
    "\n",
    "import csv\n",
    "tba = tbapy.TBA('OXCHGYRjLglaSVGWzbxHlvAkoFP5IN8Ja0yPXiV3aN6XP9zZhOgm9FJsPxao7Q71')\n",
    "\n",
    "event = \"2020mndu\"\n",
    "df = pd.DataFrame(tba.event_matches(event))"
   ]
  },
  {
   "cell_type": "markdown",
   "source": [
    "df established, clean up"
   ],
   "metadata": {
    "collapsed": false
   }
  },
  {
   "cell_type": "code",
   "execution_count": 236,
   "outputs": [
    {
     "data": {
      "text/plain": "['actual_time',\n 'alliances',\n 'comp_level',\n 'event_key',\n 'key',\n 'match_number',\n 'post_result_time',\n 'predicted_time',\n 'score_breakdown',\n 'set_number',\n 'time',\n 'videos',\n 'winning_alliance']"
     },
     "execution_count": 236,
     "metadata": {},
     "output_type": "execute_result"
    }
   ],
   "source": [
    "list(df.columns)"
   ],
   "metadata": {
    "collapsed": false,
    "pycharm": {
     "name": "#%%\n"
    }
   }
  },
  {
   "cell_type": "markdown",
   "source": [
    "We want to remove all pointless information from our dataframe"
   ],
   "metadata": {
    "collapsed": false
   }
  },
  {
   "cell_type": "code",
   "execution_count": 237,
   "outputs": [
    {
     "name": "stdout",
     "output_type": "stream",
     "text": [
      "Index(['actual_time', 'alliances', 'comp_level', 'event_key', 'key',\n",
      "       'match_number', 'post_result_time', 'predicted_time', 'score_breakdown',\n",
      "       'set_number', 'time', 'videos', 'winning_alliance'],\n",
      "      dtype='object')\n"
     ]
    }
   ],
   "source": [
    "df.drop(columns=['actual_time','event_key','post_result_time','predicted_time','set_number','time','videos'])\n",
    "#df.to_csv(\"EventData.csv\")\n",
    "print(df.columns)"
   ],
   "metadata": {
    "collapsed": false,
    "pycharm": {
     "name": "#%%\n"
    }
   }
  },
  {
   "cell_type": "markdown",
   "source": [
    "Getting a bunch of dictionary values inside of scorebreakdown, lets see how we can convert that to columns"
   ],
   "metadata": {
    "collapsed": false
   }
  },
  {
   "cell_type": "code",
   "execution_count": 238,
   "outputs": [
    {
     "name": "stdout",
     "output_type": "stream",
     "text": [
      "{'blue': {'dq_team_keys': [], 'score': 96, 'surrogate_team_keys': [], 'team_keys': ['frc4728', 'frc5348', 'frc2526']}, 'red': {'dq_team_keys': [], 'score': 150, 'surrogate_team_keys': [], 'team_keys': ['frc167', 'frc1816', 'frc5464']}}\n"
     ]
    },
    {
     "data": {
      "text/plain": "'5464'"
     },
     "execution_count": 238,
     "metadata": {},
     "output_type": "execute_result"
    }
   ],
   "source": [
    "ad = df.loc[0,'alliances']\n",
    "print(ad)\n",
    "ad['red']['team_keys'][2][3:]"
   ],
   "metadata": {
    "collapsed": false,
    "pycharm": {
     "name": "#%%\n"
    }
   }
  },
  {
   "cell_type": "code",
   "execution_count": 239,
   "outputs": [
    {
     "name": "stdout",
     "output_type": "stream",
     "text": [
      "     adjustPoints  autoCellPoints  autoCellsBottom  autoCellsInner  \\\n",
      "0               0              30                1               0   \n",
      "1               0              44                0               0   \n",
      "2               0              30                3               0   \n",
      "3               0              46                0               1   \n",
      "4               0              22                0               1   \n",
      "..            ...             ...              ...             ...   \n",
      "215             0              22                0               1   \n",
      "216             0              32                1               1   \n",
      "217             0              32                0               0   \n",
      "218             0              26                0               1   \n",
      "219             0              20                0               0   \n",
      "\n",
      "     autoCellsOuter  autoInitLinePoints  autoPoints  controlPanelPoints  \\\n",
      "0                 7                  15          45                   0   \n",
      "1                11                  15          59                   0   \n",
      "2                 6                  15          45                   0   \n",
      "3                10                  15          61                   0   \n",
      "4                 4                  15          37                   0   \n",
      "..              ...                 ...         ...                 ...   \n",
      "215               4                  15          37                   0   \n",
      "216               6                  15          47                   0   \n",
      "217               8                  15          47                   0   \n",
      "218               5                  15          41                   0   \n",
      "219               5                  15          35                   0   \n",
      "\n",
      "     endgamePoints endgameRobot1  ... teleopCellPoints teleopCellsBottom  \\\n",
      "0               35          Hang  ...               16                 0   \n",
      "1               75          Hang  ...               16                 0   \n",
      "2               30          Hang  ...               20                 0   \n",
      "3               90          Hang  ...               16                 0   \n",
      "4               10          Park  ...               28                 1   \n",
      "..             ...           ...  ...              ...               ...   \n",
      "215             90          Hang  ...               12                 0   \n",
      "216             50          Park  ...               24                 0   \n",
      "217             50          Park  ...               17                 1   \n",
      "218             55          Park  ...               22                 0   \n",
      "219             55          Park  ...                8                 0   \n",
      "\n",
      "    teleopCellsInner  teleopCellsOuter  teleopPoints totalPoints alliance1  \\\n",
      "0                  0                 8            51          96      4728   \n",
      "1                  0                 8            91         150       167   \n",
      "2                  0                10            50          95      4728   \n",
      "3                  0                 8           106         182       167   \n",
      "4                  3                 9            38         105      3740   \n",
      "..               ...               ...           ...         ...       ...   \n",
      "215                0                 6           102         142      5690   \n",
      "216                0                12            74         127      4728   \n",
      "217                0                 8            67         114      5690   \n",
      "218                0                11            77         118      4728   \n",
      "219                0                 4            63          98      5690   \n",
      "\n",
      "    alliance2  alliance3        matchKey  \n",
      "0        5348       2526   2020mndu_f1m1  \n",
      "1        1816       5464   2020mndu_f1m1  \n",
      "2        5348       2526   2020mndu_f1m2  \n",
      "3        1816       5464   2020mndu_f1m2  \n",
      "4        6045       4009  2020mndu_qf1m1  \n",
      "..        ...        ...             ...  \n",
      "215      6022       6217  2020mndu_sf2m1  \n",
      "216      5348       2526  2020mndu_sf2m2  \n",
      "217      6022       6217  2020mndu_sf2m2  \n",
      "218      5348       2526  2020mndu_sf2m3  \n",
      "219      6022       7041  2020mndu_sf2m3  \n",
      "\n",
      "[220 rows x 38 columns]\n"
     ]
    }
   ],
   "source": [
    "#score dataframe\n",
    "\n",
    "score = df.loc[0,'score_breakdown']\n",
    "\n",
    "data = []\n",
    "\n",
    "matchCount = len(df.loc[:,'match_number'])\n",
    "\n",
    "for i in range(matchCount):\n",
    "    iScore = df.loc[i,'score_breakdown']\n",
    "    iAlliance = df.loc[i,'alliances']\n",
    "\n",
    "    bScore = iScore['blue']\n",
    "    bRobots = iAlliance['blue']['team_keys']\n",
    "\n",
    "    rScore = iScore['red']\n",
    "    rRobots = iAlliance['red']['team_keys']\n",
    "\n",
    "        #frcXXXX -> XXXX\n",
    "    #Append alliance numbers onto rScore Dictionary\n",
    "    bScore['alliance1'] = bRobots[0][3:]\n",
    "    bScore['alliance2'] = bRobots[1][3:]\n",
    "    bScore['alliance3'] = bRobots[2][3:]\n",
    "    bScore['matchKey'] = df.loc[i,'key']\n",
    "\n",
    "    rScore['alliance1'] = rRobots[0][3:]\n",
    "    rScore['alliance2'] = rRobots[1][3:]\n",
    "    rScore['alliance3'] = rRobots[2][3:]\n",
    "    rScore['matchKey'] = df.loc[i,'key']\n",
    "\n",
    "    data.append(bScore)\n",
    "    data.append(rScore)\n",
    "\n",
    "sdf = pd.DataFrame(data)\n",
    "print(sdf)\n",
    "#hell yea"
   ],
   "metadata": {
    "collapsed": false,
    "pycharm": {
     "name": "#%%\n"
    }
   }
  },
  {
   "cell_type": "code",
   "execution_count": 240,
   "outputs": [],
   "source": [
    "sdf.to_csv(\"Refined_Event_Data.csv\")"
   ],
   "metadata": {
    "collapsed": false,
    "pycharm": {
     "name": "#%%\n"
    }
   }
  },
  {
   "cell_type": "code",
   "execution_count": 241,
   "outputs": [
    {
     "name": "stdout",
     "output_type": "stream",
     "text": [
      "Index(['adjustPoints', 'autoCellPoints', 'autoCellsBottom', 'autoCellsInner',\n",
      "       'autoCellsOuter', 'autoInitLinePoints', 'autoPoints',\n",
      "       'controlPanelPoints', 'endgamePoints', 'endgameRobot1', 'endgameRobot2',\n",
      "       'endgameRobot3', 'endgameRungIsLevel', 'foulCount', 'foulPoints',\n",
      "       'initLineRobot1', 'initLineRobot2', 'initLineRobot3', 'rp',\n",
      "       'shieldEnergizedRankingPoint', 'shieldOperationalRankingPoint',\n",
      "       'stage1Activated', 'stage2Activated', 'stage3Activated',\n",
      "       'stage3TargetColor', 'tba_numRobotsHanging',\n",
      "       'tba_shieldEnergizedRankingPointFromFoul', 'techFoulCount',\n",
      "       'teleopCellPoints', 'teleopCellsBottom', 'teleopCellsInner',\n",
      "       'teleopCellsOuter', 'teleopPoints', 'totalPoints', 'alliance1',\n",
      "       'alliance2', 'alliance3', 'matchKey'],\n",
      "      dtype='object')\n"
     ]
    }
   ],
   "source": [
    "print(sdf.columns)\n",
    "\n",
    "#Lets sort each columns into a group by using a list for reindexing the columns.\n",
    "#I just seperated these by line but in the dataframe the categories will be adjacent\n",
    "reorderColumnList = [ 'matchKey','alliance1','alliance2','alliance3',\n",
    "\n",
    "    'autoCellPoints','autoCellsBottom','autoCellsInner', 'autoCellsOuter', 'autoInitLinePoints', 'autoPoints', 'initLineRobot1', 'initLineRobot2', 'initLineRobot3',\n",
    "                                                                                                                                                                                    'teleopCellPoints','teleopCellsBottom','teleopCellsInner','teleopCellsOuter','teleopPoints',\n",
    "\n",
    "                     'endgamePoints', 'endgameRobot1', 'endgameRobot2' , 'endgameRobot3', 'endgameRungIsLevel','tba_numRobotsHanging',\n",
    "\n",
    "                      'totalPoints',\n",
    "\n",
    "                      'rp','shieldEnergizedRankingPoint','shieldOperationalRankingPoint','tba_shieldEnergizedRankingPointFromFoul','stage1Activated','stage2Activated','stage3Activated','stage3TargetColor','foulCount','techFoulCount', 'foulPoints',\n",
    "\n",
    "                     'adjustPoints', 'controlPanelPoints'\n",
    "]\n",
    "sdf = sdf.reindex(columns = reorderColumnList)"
   ],
   "metadata": {
    "collapsed": false,
    "pycharm": {
     "name": "#%%\n"
    }
   }
  },
  {
   "cell_type": "markdown",
   "source": [
    "Now lets make the qualitative data: \"TRUE/FALSE\" into quantitative \"1/0\""
   ],
   "metadata": {
    "collapsed": false
   }
  },
  {
   "cell_type": "code",
   "execution_count": 242,
   "outputs": [],
   "source": [
    "sdf.initLineRobot1 = sdf.initLineRobot1.replace({'Exited': 1,'None': 0})\n",
    "sdf.initLineRobot2 = sdf.initLineRobot2.replace({'Exited': 1,'None': 0})\n",
    "sdf.initLineRobot3 = sdf.initLineRobot3.replace({'Exited': 1,'None': 0})\n",
    "sdf.endgameRobot1 = sdf.endgameRobot1.replace({'Hang': 2,'Park': 1,'None': 0})\n",
    "sdf.endgameRobot2 = sdf.endgameRobot2.replace({'Hang': 2,'Park': 1,'None': 0})\n",
    "sdf.endgameRobot3 = sdf.endgameRobot3.replace({'Hang': 2,'Park': 1,'None': 0})\n",
    "sdf.endgameRungIsLevel = sdf.endgameRungIsLevel.replace({'IsLevel': 1,'NotLevel':0})\n",
    "sdf.shieldEnergizedRankingPoint = sdf.shieldEnergizedRankingPoint.replace({True: 1,False: 0})\n",
    "sdf.shieldOperationalRankingPoint = sdf.shieldOperationalRankingPoint.replace({True: 1,False: 0})\n",
    "sdf.tba_shieldEnergizedRankingPointFromFoul = sdf.tba_shieldEnergizedRankingPointFromFoul.replace({True: 1,False: 0})\n",
    "sdf.stage1Activated = sdf.stage1Activated.replace({True: 1,False: 0})\n",
    "sdf.stage2Activated = sdf.stage2Activated.replace({True: 1,False: 0})\n",
    "sdf.stage3Activated = sdf.stage3Activated.replace({True: 1,False: 0})\n",
    "#useless info on stage3TargetColor, dropping"
   ],
   "metadata": {
    "collapsed": false,
    "pycharm": {
     "name": "#%%\n"
    }
   }
  },
  {
   "cell_type": "markdown",
   "source": [
    "Sorting by match order:"
   ],
   "metadata": {
    "collapsed": false
   }
  },
  {
   "cell_type": "markdown",
   "source": [],
   "metadata": {
    "collapsed": false,
    "pycharm": {
     "name": "#%% md\n"
    }
   }
  },
  {
   "cell_type": "code",
   "execution_count": 243,
   "outputs": [],
   "source": [
    "msdf = sdf\n",
    "mList = msdf.matchKey\n",
    "qList=[]\n",
    "qfList=[]\n",
    "sfList=[]\n",
    "fList=[]\n",
    "NaNList = []\n",
    "\n",
    "for match in mList:\n",
    "    if 'qm' in match:\n",
    "        qList.append(match)\n",
    "    elif 'qf' in match:\n",
    "        qfList.append(match)\n",
    "    elif 'sf' in match:\n",
    "        sfList.append(match)\n",
    "    elif 'f1' in match:\n",
    "        fList.append(match)\n",
    "    else:\n",
    "        NaNList.append(match)\n",
    "\n",
    "eventStorageqm = qList[0].index('qm') + 2\n",
    "eventName = qList[0][:eventStorageqm]\n",
    "for i in range(len(qList)):\n",
    "    qList[i] = int(qList[i][eventStorageqm:])\n",
    "qList.sort()\n",
    "for i in range(len(qList)):\n",
    "    qList[i] = eventName + str(qList[i])\n",
    "sorter = qList + qfList + sfList + fList + NaNList"
   ],
   "metadata": {
    "collapsed": false,
    "pycharm": {
     "name": "#%%\n"
    }
   }
  },
  {
   "cell_type": "code",
   "execution_count": 244,
   "outputs": [],
   "source": [
    "msdf = msdf.set_index('matchKey')\n",
    "msdf = msdf.loc[sorter]"
   ],
   "metadata": {
    "collapsed": false,
    "pycharm": {
     "name": "#%%\n"
    }
   }
  },
  {
   "cell_type": "code",
   "execution_count": 245,
   "outputs": [],
   "source": [
    "msdf = msdf.drop_duplicates(keep = 'first')"
   ],
   "metadata": {
    "collapsed": false,
    "pycharm": {
     "name": "#%%\n"
    }
   }
  },
  {
   "cell_type": "code",
   "execution_count": 246,
   "outputs": [
    {
     "name": "stderr",
     "output_type": "stream",
     "text": [
      "C:\\Users\\cttpa\\AppData\\Local\\Temp/ipykernel_14508/2290944533.py:1: FutureWarning: In a future version of pandas all arguments of DataFrame.drop except for the argument 'labels' will be keyword-only\n",
      "  msdf = msdf.drop('stage3TargetColor',1)\n"
     ]
    }
   ],
   "source": [
    "msdf = msdf.drop('stage3TargetColor',1)"
   ],
   "metadata": {
    "collapsed": false,
    "pycharm": {
     "name": "#%%\n"
    }
   }
  },
  {
   "cell_type": "code",
   "execution_count": 247,
   "outputs": [],
   "source": [
    "msdf.to_csv('mndu2020MSDF.csv')\n",
    "msdf.to_pickle('mndu2020MSDF.pkl')"
   ],
   "metadata": {
    "collapsed": false,
    "pycharm": {
     "name": "#%%\n"
    }
   }
  },
  {
   "cell_type": "code",
   "execution_count": 248,
   "outputs": [
    {
     "data": {
      "text/plain": "array([[0, 0, 1, ..., 0, 0, 0],\n       [0, 0, 0, ..., 0, 0, 0],\n       [0, 0, 0, ..., 0, 0, 0],\n       ...,\n       [1, 0, 1, ..., 0, 0, 0],\n       [0, 0, 0, ..., 0, 0, 1],\n       [0, 0, 0, ..., 0, 0, 0]])"
     },
     "execution_count": 248,
     "metadata": {},
     "output_type": "execute_result"
    }
   ],
   "source": [
    "teamList = list(set(msdf['alliance1'].tolist()+msdf['alliance2'].tolist()+msdf['alliance3'].tolist()))\n",
    "teamList.sort(key=int)\n",
    "matchMatrix = []\n",
    "#CHANGED TO ONLY DO QUALS FOR THIS DULUTH, WOULD NEED CHANGING FOR MODULARITY\n",
    "for i in range(len(qList)):\n",
    "    a1 = msdf.alliance1[i]\n",
    "    a2 = msdf.alliance2[i]\n",
    "    a3 = msdf.alliance3[i]\n",
    "    matchTeams = []\n",
    "    for j in range(len(teamList)):\n",
    "        team = teamList[j]\n",
    "        if (team == a1) or (team == a2) or (team == a3):\n",
    "            matchTeams.append(1)\n",
    "        else:\n",
    "            matchTeams.append(0)\n",
    "    matchMatrix.append(matchTeams)\n",
    "matchNPArray = np.array(matchMatrix)\n",
    "matchNPArray"
   ],
   "metadata": {
    "collapsed": false,
    "pycharm": {
     "name": "#%%\n"
    }
   }
  },
  {
   "cell_type": "code",
   "execution_count": 249,
   "outputs": [
    {
     "data": {
      "text/plain": "array([115,  47,  51, 123,  71,  98,  61, 134,  94,  70,  97, 142,  71,\n       104,  21, 108, 107,  35,  91, 111,  96,  54, 122,  64, 123,  58,\n       135,  54,  89,  85,  83,  64,  97,  72,  99,  87, 144, 112,  14,\n        91, 114,  65, 102,  67, 177,  82,  57, 103, 136,  38, 127, 109,\n       122,  58, 118, 102,  83,  38,  53, 146,  52,  90,  82,  58,  99,\n       130,  62, 113, 136, 153, 106,  69, 153,  94,  79, 129, 102,  42,\n        82,  78,  78,  96,  72,  88, 114, 147,  90,  71,  82,  72,  71,\n       116,  93,  80, 143,  74, 116, 127,  57,  63,  57,  76, 134, 103,\n        99, 107, 181,  74, 121, 114, 130, 119, 123,  72,  84, 117, 132,\n       125,  81, 134,  62, 123, 113, 125, 101,  84,  66, 143, 155, 101,\n        56,  64, 144, 124,  81,  76,  56, 113,  51,  47,  89, 146,  70,\n       121,  69, 145, 123, 112, 137, 123,  96, 145,  79,  89,  68,  98,\n       121, 100,  64,  72, 141, 104,  99, 101,  31, 122, 146,  89, 105,\n        66, 116, 107,  83, 103,  74, 108, 127, 104, 123, 140, 106, 151,\n       126,  70, 124, 112, 106, 166, 123,  69], dtype=int64)"
     },
     "execution_count": 249,
     "metadata": {},
     "output_type": "execute_result"
    }
   ],
   "source": [
    "scoreList = []\n",
    "for i in range(len(qList)):\n",
    "    scoreList.append(msdf.totalPoints[i])\n",
    "scoreArray = np.array(scoreList).T\n",
    "scoreArray"
   ],
   "metadata": {
    "collapsed": false,
    "pycharm": {
     "name": "#%%\n"
    }
   }
  },
  {
   "cell_type": "code",
   "execution_count": 250,
   "outputs": [
    {
     "data": {
      "text/plain": "array([ 41,  18,  20,  88,  52,  64,  36,  69,  69,  48,  46, 100,  30,\n        33,   6,  66,  54,  30,  75,  89,  46,  23,  77,  27,  51,  29,\n        96,  34,  61,  40,  61,  34,  69,  47,  74,  51,  92,  59,   5,\n        77,  71,  32,  65,  22, 112,  37,  12,  62,  68,  18,  89,  67,\n        90,  50,  60,  64,  48,  13,  20, 111,  29,  32,  39,  16,  78,\n       111,  57,  73, 101, 113,  73,  46, 108,  60,  53,  74,  74,  17,\n        37,  36,  29,  61,  37,  69,  80, 112,  48,  20,  46,  39,  52,\n        41,  62,  20,  95,  36,  84,  87,  47,  24,  25,  43,  89,  59,\n        81,  76, 109,  36,  83,  73,  85,  90,  95,  38,  45,  80,  91,\n        95,  37,  91,  27,  92,  87,  88,  78,  47,  42, 105,  69,  33,\n        44,  37,  89,  64,  54,  32,  23,  78,  28,  32,  52, 100,  37,\n        56,  30,  85,  70,  81, 114, 101,  46,  85,  41,  31,  49,  69,\n        90,  51,  30,  57, 110,  81,  78,  50,  21,  75,  85,  79,  83,\n        36,  69,  86,  54,  60,  60,  75,  68,  52,  67, 107,  61, 130,\n        96,  43, 101,  54,  75, 100,  81,  34], dtype=int64)"
     },
     "execution_count": 250,
     "metadata": {},
     "output_type": "execute_result"
    }
   ],
   "source": [
    "#create telepoScoreArray\n",
    "tScoreList = []\n",
    "for i in range(len(qList)):\n",
    "    tScoreList.append(msdf.teleopPoints[i])\n",
    "tScoreArray = np.array(tScoreList).T\n",
    "tScoreArray"
   ],
   "metadata": {
    "collapsed": false,
    "pycharm": {
     "name": "#%%\n"
    }
   }
  },
  {
   "cell_type": "code",
   "execution_count": 251,
   "outputs": [
    {
     "name": "stdout",
     "output_type": "stream",
     "text": [
      "[26.12156188 31.89406541 42.21138155 13.88483978 17.10207162 19.1186756\n",
      " 27.80183048 17.87965227 14.89964235 15.17051684 28.91613617 27.20833934\n",
      "  7.19091147 14.69485654 28.58843472 21.10211679 19.44577703 24.51265463\n",
      "  1.81308583 25.20008421 26.49089407 15.3974187  14.52988972 21.4987642\n",
      "  2.4389207  10.16545142 -7.39614014 36.55863796  5.46000283 16.24183059\n",
      " 27.69182646  9.38653801 31.84823396 36.75191426 24.80687111  2.73954775\n",
      " 11.34064804 30.27783201 24.4751738   6.24799582 30.54001259 12.56772355\n",
      " 14.4849744  48.17300805  8.45311247 53.41738604  8.70273787 37.5383032\n",
      " 19.03402396  8.18296936 20.72241438 28.86167313 19.74739849 30.21171546\n",
      " 32.59984257 19.05798075 26.03026629 24.57704093 27.3484402   9.38647527\n",
      "  1.20414628  5.71890358 16.99879977]\n"
     ]
    }
   ],
   "source": [
    "topr,residuls,rank,singValues = np.linalg.lstsq(matchNPArray,tScoreArray,rcond=None)\n",
    "print(topr)"
   ],
   "metadata": {
    "collapsed": false,
    "pycharm": {
     "name": "#%%\n"
    }
   }
  },
  {
   "cell_type": "code",
   "execution_count": 252,
   "outputs": [],
   "source": [
    "aScoreList = []\n",
    "for i in range(len(qList)):\n",
    "    aScoreList.append(msdf.autoPoints[i])\n",
    "aScoreArray = np.array(aScoreList).T"
   ],
   "metadata": {
    "collapsed": false,
    "pycharm": {
     "name": "#%%\n"
    }
   }
  },
  {
   "cell_type": "code",
   "execution_count": 253,
   "outputs": [],
   "source": [
    "aopr,ared, arank,asingValues = np.linalg.lstsq(matchNPArray,aScoreArray,rcond=None)"
   ],
   "metadata": {
    "collapsed": false,
    "pycharm": {
     "name": "#%%\n"
    }
   }
  },
  {
   "cell_type": "code",
   "execution_count": 254,
   "outputs": [],
   "source": [
    "eScoreList = []\n",
    "for i in range(len(qList)):\n",
    "    eScoreList.append(msdf.endgamePoints[i])\n",
    "eScoreArray = np.array(eScoreList).T"
   ],
   "metadata": {
    "collapsed": false,
    "pycharm": {
     "name": "#%%\n"
    }
   }
  },
  {
   "cell_type": "code",
   "execution_count": 255,
   "outputs": [],
   "source": [
    "eopr, ered, erank,esingValues = np.linalg.lstsq(matchNPArray,eScoreArray,rcond=None)"
   ],
   "metadata": {
    "collapsed": false,
    "pycharm": {
     "name": "#%%\n"
    }
   }
  },
  {
   "cell_type": "code",
   "execution_count": 256,
   "outputs": [
    {
     "name": "stdout",
     "output_type": "stream",
     "text": [
      "[32.14444685 43.7477653  67.68949159 30.50903958 39.45738974 26.65569424\n",
      " 47.28045366 28.05503933 13.77389213 30.73445816 41.08182077 37.84251524\n",
      " 21.76665291 28.83599986 44.59628504 38.42014825 36.19624061 43.77430938\n",
      " 13.39822124 40.70840347 39.1735908  21.78038236 26.50262427 45.56416519\n",
      "  1.59942857 14.34943308 -1.4949135  41.03270866  3.93304713 35.82392936\n",
      " 32.93954428 22.9734413  48.93419183 47.65563229 32.59678376 21.65287056\n",
      " 16.94450293 48.00731499 39.34831433 20.13740992 44.7331575  25.91212439\n",
      " 23.7255723  60.4890345  26.6008905  56.387855   19.75178221 52.70604037\n",
      " 42.34730585  4.57921508 37.50195334 47.80197686 41.68911639 33.30952499\n",
      " 42.22240834 32.62273257 36.13628997 34.17646943 46.70389735 18.99102869\n",
      "  8.40744238 12.58707803 32.53041901]\n"
     ]
    }
   ],
   "source": [
    "opr, residuals, rank, singValues = np.linalg.lstsq(matchNPArray,scoreArray,rcond=None)\n",
    "print(opr)"
   ],
   "metadata": {
    "collapsed": false,
    "pycharm": {
     "name": "#%%\n"
    }
   }
  },
  {
   "cell_type": "code",
   "execution_count": 257,
   "outputs": [],
   "source": [
    "#dpr\n",
    "dScoreList = []\n",
    "for i in range(0,len(qList),2):\n",
    "    dScoreList.append(msdf.totalPoints[i+1])\n",
    "    dScoreList.append(msdf.totalPoints[i])\n",
    "dScoreArray = np.array(dScoreList).T"
   ],
   "metadata": {
    "collapsed": false,
    "pycharm": {
     "name": "#%%\n"
    }
   }
  },
  {
   "cell_type": "code",
   "execution_count": 258,
   "outputs": [
    {
     "name": "stdout",
     "output_type": "stream",
     "text": [
      "[37.72771728 23.41504518 37.4577414  41.05437751 14.87265832 55.28175902\n",
      " 35.08299035 20.54886168 38.69272436 22.10084214 26.21041989 28.1775664\n",
      " 52.18924667 28.17647142 15.04308387 31.08370952 12.96529084 43.49141258\n",
      " 24.17604215 38.63158857 18.04642808 46.51039525 42.8734776  40.25934246\n",
      " 27.71239751 24.45316651 26.596906   40.79036534 34.65808844 48.91407617\n",
      " 19.12434302 23.37417623 21.33521012 41.67623816 14.71033092 40.11788814\n",
      " 53.30259997 34.17456034 37.95251973 27.75165145 28.87273924 56.45709981\n",
      " 29.88373555 46.42485004 37.65009918 30.52144772 36.51346805 11.79653712\n",
      " 18.87071719 22.53724045 35.08267224 43.57321202 29.68293835 31.09838836\n",
      " 39.97003718 42.59625038 31.63779696 16.76789601 37.01585292 12.62723069\n",
      " 34.00537258 35.65735803 46.64226992]\n"
     ]
    }
   ],
   "source": [
    "dopr,dResid,dRank,dSing = np.linalg.lstsq(matchNPArray,dScoreArray,rcond=None)\n",
    "print(dopr)"
   ],
   "metadata": {
    "collapsed": false,
    "pycharm": {
     "name": "#%%\n"
    }
   }
  },
  {
   "cell_type": "code",
   "execution_count": 259,
   "outputs": [],
   "source": [
    "ccwm = []\n",
    "for i in range(len(opr)):\n",
    "    ccwm.append(opr[i]-dopr[i])"
   ],
   "metadata": {
    "collapsed": false,
    "pycharm": {
     "name": "#%%\n"
    }
   }
  },
  {
   "cell_type": "code",
   "execution_count": 260,
   "outputs": [
    {
     "name": "stdout",
     "output_type": "stream",
     "text": [
      "[37, 7, 1, 54, 17, 47, 31, 42, 43, 20, 8, 46, 56, 21, 26, 33, 6, 28, 39, 52, 12, 62, 45, 19, 60, 48, 63, 34, 30, 59, 15, 11, 14, 5, 38, 51, 61, 3, 40, 55, 25, 49, 41, 22, 35, 4, 53, 2, 9, 44, 29, 24, 27, 36, 23, 57, 13, 16, 10, 32, 58, 50, 18]\n"
     ]
    }
   ],
   "source": [
    "rankList=[]\n",
    "for team in teamList:\n",
    "    rank = dict(tba.team_status('frc'+team,event))['qual']['ranking']['rank']\n",
    "    rankList.append(rank)\n",
    "print(rankList)"
   ],
   "metadata": {
    "collapsed": false,
    "pycharm": {
     "name": "#%%\n"
    }
   }
  },
  {
   "cell_type": "code",
   "execution_count": 261,
   "outputs": [],
   "source": [
    "teamVar = pd.DataFrame({'Rank':rankList,'OPR':opr.tolist(),'DPR':dopr.tolist(),'CCWM':ccwm,'teleopOPR':topr.tolist(),'autoOPR':aopr.tolist(),'endgameOPR':eopr.tolist()},index=teamList)\n",
    "teamVar.to_csv('2020mnduQUALSOPR.csv')"
   ],
   "metadata": {
    "collapsed": false,
    "pycharm": {
     "name": "#%%\n"
    }
   }
  },
  {
   "cell_type": "markdown",
   "source": [
    "Elo Implementation:\n",
    "P1 = Probability of winning of alliance with rating2\n",
    "P2 = Probability of winning of alliance with rating1"
   ],
   "metadata": {
    "collapsed": false
   }
  },
  {
   "cell_type": "code",
   "execution_count": 262,
   "outputs": [],
   "source": [
    "#team = msdf.alliance1.loc['2020mndu2_qm1'][0]\n",
    "#teamVar.OPR.loc[team]"
   ],
   "metadata": {
    "collapsed": false,
    "pycharm": {
     "name": "#%%\n"
    }
   }
  },
  {
   "cell_type": "code",
   "execution_count": 263,
   "outputs": [
    {
     "data": {
      "text/plain": "                 r1    r2    r3    b1    b2    b3   muRedOPR  muBlueOPR  \\\n2020mndu_qm1   7068  4217  3275  1816  6045  3102  25.485288  46.290932   \n2020mndu_qm2   4728  7797  4511  2861  2177  2823  42.859211  32.823991   \n2020mndu_qm3   4009  2264  7864  3755  4166  5826  37.278549  18.234314   \n2020mndu_qm4   6146  4674  6628  8416  2169  3754  31.032709  28.273280   \n2020mndu_qm5   5991  3291  5464  4238  7041  6022  36.378130  30.925126   \n...             ...   ...   ...   ...   ...   ...        ...        ...   \n2020mndu_qm91  2175  5991  4741  5542  3058  5253  47.833626  26.544265   \n2020mndu_qm92  3755  4238  3122  5576  7041  3267  25.010652  39.021896   \n2020mndu_qm93  3291  5690  4480  2526  6146  3740  36.570395  30.149812   \n2020mndu_qm94    93  2823  1816  6453  3100  3754  43.522799  28.589815   \n2020mndu_qm95  6047  5290  3134  7068  5653  8416  19.981289  30.144154   \n\n               sigmaRedOPR  sigmaBlueOPR   win  \n2020mndu_qm1     23.853262     19.724670  Blue  \n2020mndu_qm2      8.662759      7.436591   Red  \n2020mndu_qm3     15.860689     14.406318   Red  \n2020mndu_qm4      7.393615      5.713124   Red  \n2020mndu_qm5     21.648179     24.800572  Blue  \n...                    ...           ...   ...  \n2020mndu_qm91     8.466636      9.813867   Red  \n2020mndu_qm92    20.372634      4.946188  Blue  \n2020mndu_qm93    23.554279     14.206571  Blue  \n2020mndu_qm94    20.940840     11.806175   Red  \n2020mndu_qm95    17.123631      5.619253  Blue  \n\n[95 rows x 11 columns]",
      "text/html": "<div>\n<style scoped>\n    .dataframe tbody tr th:only-of-type {\n        vertical-align: middle;\n    }\n\n    .dataframe tbody tr th {\n        vertical-align: top;\n    }\n\n    .dataframe thead th {\n        text-align: right;\n    }\n</style>\n<table border=\"1\" class=\"dataframe\">\n  <thead>\n    <tr style=\"text-align: right;\">\n      <th></th>\n      <th>r1</th>\n      <th>r2</th>\n      <th>r3</th>\n      <th>b1</th>\n      <th>b2</th>\n      <th>b3</th>\n      <th>muRedOPR</th>\n      <th>muBlueOPR</th>\n      <th>sigmaRedOPR</th>\n      <th>sigmaBlueOPR</th>\n      <th>win</th>\n    </tr>\n  </thead>\n  <tbody>\n    <tr>\n      <th>2020mndu_qm1</th>\n      <td>7068</td>\n      <td>4217</td>\n      <td>3275</td>\n      <td>1816</td>\n      <td>6045</td>\n      <td>3102</td>\n      <td>25.485288</td>\n      <td>46.290932</td>\n      <td>23.853262</td>\n      <td>19.724670</td>\n      <td>Blue</td>\n    </tr>\n    <tr>\n      <th>2020mndu_qm2</th>\n      <td>4728</td>\n      <td>7797</td>\n      <td>4511</td>\n      <td>2861</td>\n      <td>2177</td>\n      <td>2823</td>\n      <td>42.859211</td>\n      <td>32.823991</td>\n      <td>8.662759</td>\n      <td>7.436591</td>\n      <td>Red</td>\n    </tr>\n    <tr>\n      <th>2020mndu_qm3</th>\n      <td>4009</td>\n      <td>2264</td>\n      <td>7864</td>\n      <td>3755</td>\n      <td>4166</td>\n      <td>5826</td>\n      <td>37.278549</td>\n      <td>18.234314</td>\n      <td>15.860689</td>\n      <td>14.406318</td>\n      <td>Red</td>\n    </tr>\n    <tr>\n      <th>2020mndu_qm4</th>\n      <td>6146</td>\n      <td>4674</td>\n      <td>6628</td>\n      <td>8416</td>\n      <td>2169</td>\n      <td>3754</td>\n      <td>31.032709</td>\n      <td>28.273280</td>\n      <td>7.393615</td>\n      <td>5.713124</td>\n      <td>Red</td>\n    </tr>\n    <tr>\n      <th>2020mndu_qm5</th>\n      <td>5991</td>\n      <td>3291</td>\n      <td>5464</td>\n      <td>4238</td>\n      <td>7041</td>\n      <td>6022</td>\n      <td>36.378130</td>\n      <td>30.925126</td>\n      <td>21.648179</td>\n      <td>24.800572</td>\n      <td>Blue</td>\n    </tr>\n    <tr>\n      <th>...</th>\n      <td>...</td>\n      <td>...</td>\n      <td>...</td>\n      <td>...</td>\n      <td>...</td>\n      <td>...</td>\n      <td>...</td>\n      <td>...</td>\n      <td>...</td>\n      <td>...</td>\n      <td>...</td>\n    </tr>\n    <tr>\n      <th>2020mndu_qm91</th>\n      <td>2175</td>\n      <td>5991</td>\n      <td>4741</td>\n      <td>5542</td>\n      <td>3058</td>\n      <td>5253</td>\n      <td>47.833626</td>\n      <td>26.544265</td>\n      <td>8.466636</td>\n      <td>9.813867</td>\n      <td>Red</td>\n    </tr>\n    <tr>\n      <th>2020mndu_qm92</th>\n      <td>3755</td>\n      <td>4238</td>\n      <td>3122</td>\n      <td>5576</td>\n      <td>7041</td>\n      <td>3267</td>\n      <td>25.010652</td>\n      <td>39.021896</td>\n      <td>20.372634</td>\n      <td>4.946188</td>\n      <td>Blue</td>\n    </tr>\n    <tr>\n      <th>2020mndu_qm93</th>\n      <td>3291</td>\n      <td>5690</td>\n      <td>4480</td>\n      <td>2526</td>\n      <td>6146</td>\n      <td>3740</td>\n      <td>36.570395</td>\n      <td>30.149812</td>\n      <td>23.554279</td>\n      <td>14.206571</td>\n      <td>Blue</td>\n    </tr>\n    <tr>\n      <th>2020mndu_qm94</th>\n      <td>93</td>\n      <td>2823</td>\n      <td>1816</td>\n      <td>6453</td>\n      <td>3100</td>\n      <td>3754</td>\n      <td>43.522799</td>\n      <td>28.589815</td>\n      <td>20.940840</td>\n      <td>11.806175</td>\n      <td>Red</td>\n    </tr>\n    <tr>\n      <th>2020mndu_qm95</th>\n      <td>6047</td>\n      <td>5290</td>\n      <td>3134</td>\n      <td>7068</td>\n      <td>5653</td>\n      <td>8416</td>\n      <td>19.981289</td>\n      <td>30.144154</td>\n      <td>17.123631</td>\n      <td>5.619253</td>\n      <td>Blue</td>\n    </tr>\n  </tbody>\n</table>\n<p>95 rows × 11 columns</p>\n</div>"
     },
     "execution_count": 263,
     "metadata": {},
     "output_type": "execute_result"
    }
   ],
   "source": [
    "teamVar\n",
    "#We are curious about how we can use OPR to rate event strength, lets see how the matches stack up based on OPR\n",
    "#We have the match matrix now or we can use match schedule dataframe, dataframes are nicer :)\n",
    "#qList contains all match keys of qual matches, which is what we are interested in using to determine event difficulty for ALL robots, not just those who made it to the playoffs, as those matches will obviously be strong. Lets see how the average OPR stacks up for each alliance\n",
    "muBlueOPRlist = []\n",
    "muRedOPRlist = []\n",
    "sigmaBlueOPRlist = []\n",
    "sigmaRedOPRlist = []\n",
    "b1List = []\n",
    "b2List= []\n",
    "b3List = []\n",
    "r1List = []\n",
    "r2List = []\n",
    "r3List = []\n",
    "winList = []\n",
    "for i in range(0,len(qList),2):\n",
    "    #Get alliance strings\n",
    "    b1 = msdf.alliance1.loc[qList[i]][0]\n",
    "    b2 = msdf.alliance2.loc[qList[i]][0]\n",
    "    b3 = msdf.alliance3.loc[qList[i]][0]\n",
    "    b1OPR = teamVar.OPR.loc[b1]\n",
    "    b2OPR = teamVar.OPR.loc[b2]\n",
    "    b3OPR = teamVar.OPR.loc[b3]\n",
    "\n",
    "    muBlueOPR = (b1OPR+b2OPR+b3OPR)/3\n",
    "    sigmaBlueOPR = stat.stdev([b1OPR,b2OPR,b3OPR])\n",
    "\n",
    "    muBlueOPRlist.append(muBlueOPR)\n",
    "    sigmaBlueOPRlist.append(sigmaBlueOPR)\n",
    "\n",
    "    b1List.append(b1)\n",
    "    b2List.append(b2)\n",
    "    b3List.append(b3)\n",
    "\n",
    "    r1 = msdf.alliance1.loc[qList[i]][1]\n",
    "    r2 = msdf.alliance2.loc[qList[i]][1]\n",
    "    r3 = msdf.alliance3.loc[qList[i]][1]\n",
    "    r1OPR = teamVar.OPR.loc[r1]\n",
    "    r2OPR = teamVar.OPR.loc[r2]\n",
    "    r3OPR = teamVar.OPR.loc[r3]\n",
    "\n",
    "    muRedOPR = (r1OPR+r2OPR+r3OPR)/3\n",
    "    sigmaRedOPR = stat.stdev([r1OPR,r2OPR,r3OPR])\n",
    "\n",
    "    muRedOPRlist.append(muRedOPR)\n",
    "    sigmaRedOPRlist.append(sigmaRedOPR)\n",
    "\n",
    "    r1List.append(r1)\n",
    "    r2List.append(r2)\n",
    "    r3List.append(r3)\n",
    "\n",
    "    if(msdf.totalPoints[i] > msdf.totalPoints[i+1]):\n",
    "        winList.append('Blue')\n",
    "    else:\n",
    "        winList.append('Red')\n",
    "#Match OPR DataFrame\n",
    "from collections import OrderedDict #for removing duplicates in qList as we have one match with both red and blue values\n",
    "modf = pd.DataFrame(data = {'r1':r1List,'r2':r2List,'r3':r3List,'b1':b1List,'b2':b2List,'b3':b3List,'muRedOPR':muRedOPRlist,'muBlueOPR':muBlueOPRlist,'sigmaRedOPR':sigmaRedOPRlist,'sigmaBlueOPR':sigmaBlueOPRlist,'win':winList},index=list(OrderedDict.fromkeys(qList)))\n",
    "modf"
   ],
   "metadata": {
    "collapsed": false,
    "pycharm": {
     "name": "#%%\n"
    }
   }
  },
  {
   "cell_type": "code",
   "execution_count": 264,
   "outputs": [],
   "source": [
    "modf.to_csv('mnduMatchOPRs.csv')"
   ],
   "metadata": {
    "collapsed": false,
    "pycharm": {
     "name": "#%%\n"
    }
   }
  },
  {
   "cell_type": "code",
   "execution_count": 265,
   "outputs": [
    {
     "data": {
      "text/plain": "[-20.805643996949744,\n 10.03522009622894,\n 19.044234733752592,\n 2.7594287528351273,\n 5.453004369096302,\n 3.313936228779717,\n 6.000026944228573,\n 7.942733776668607,\n -14.713979235731077,\n 2.9681943124943473,\n -13.382131352739279,\n -20.127499337157698,\n -7.613083864648349,\n -20.33463923056582,\n 0.9536095571005028,\n 0.06253210571843582,\n 8.545216662031244,\n -0.9886032217371152,\n -13.40735658683451,\n 5.629167233464113,\n -15.787414996078294,\n 0.5950963461278569,\n -18.198874996033233,\n 18.925584252726615,\n -6.826331949982453,\n -1.077987332690597,\n -17.317944315579762,\n 2.0508476401345206,\n -17.197483314002096,\n 20.652678860219552,\n 19.601907038800956,\n -5.361280303899168,\n 9.561910767845305,\n 15.075462609359302,\n 2.9727133180772114,\n 0.24792347949004068,\n -10.880930084149078,\n 6.525295556151654,\n -8.601832280188603,\n -10.160993742182768,\n -7.181138825776635,\n -4.870102837813878,\n 15.768652625938614,\n -2.0347345732764133,\n -0.09667909825542864,\n 6.837029232214064,\n 1.1552189406819693,\n -3.8210395239396604,\n 3.1854740354499427,\n 0.9761475860494784,\n 3.7253692684899846,\n -6.050190230761295,\n -0.9734188081305248,\n -23.86194317527752,\n -0.5723031083739087,\n -14.138021959223796,\n -7.131416214654148,\n 6.674725890290006,\n 1.5602608568042413,\n 8.764908655002166,\n 16.319616935646504,\n -0.3722274898164457,\n -10.79220230970595,\n 19.35160451154734,\n -21.051461377516897,\n 7.077638729233168,\n 1.2719936813205024,\n 10.20190328911114,\n 22.080596792311006,\n 1.4617872271193164,\n -1.6166903593172748,\n 7.400230021986644,\n 12.877358739330251,\n 0.443269208562306,\n -9.082260540791765,\n -1.2048906213259656,\n 13.536167249349038,\n -1.535987924395961,\n -8.256265703341828,\n -3.9217507067077975,\n -17.29354932923948,\n 8.011543727250451,\n 23.565809563817982,\n -14.749900173628916,\n -23.159206423441127,\n -6.389944066999533,\n 15.952738798540064,\n -2.467345235994216,\n 4.055359844002382,\n -6.147097143693877,\n 21.289360437316155,\n -14.011243879742086,\n 6.420582945068336,\n 14.93298432545047,\n -10.162864827296719]"
     },
     "execution_count": 265,
     "metadata": {},
     "output_type": "execute_result"
    }
   ],
   "source": [
    "muDiffList = []\n",
    "for (rV, bV) in zip(muRedOPRlist,muBlueOPRlist):\n",
    "    muDiffList.append(rV-bV)\n",
    "muDiffList"
   ],
   "metadata": {
    "collapsed": false,
    "pycharm": {
     "name": "#%%\n"
    }
   }
  },
  {
   "cell_type": "code",
   "execution_count": 266,
   "outputs": [],
   "source": [
    "\n",
    "#Average OPR Diff for Schedule,  Opponent's Average OPR - Team's Average OPR, 0 indicates Average schedule, negative indicates easy schedule\n",
    "avgOPR = teamVar.OPR.mean()\n",
    "scheduleStrength = {}\n",
    "for team in teamList:\n",
    "    scoreList = []\n",
    "    scoreAvg = 0\n",
    "    for i in range(1,len(qList),2):\n",
    "        matchNumber = int((i/2)+0.5)\n",
    "        b1 = msdf.alliance1.loc[qList[i]][0]\n",
    "        b2 = msdf.alliance2.loc[qList[i]][0]\n",
    "        b3 = msdf.alliance3.loc[qList[i]][0]\n",
    "        r1 = msdf.alliance1.loc[qList[i]][1]\n",
    "        r2 = msdf.alliance2.loc[qList[i]][1]\n",
    "        r3 = msdf.alliance3.loc[qList[i]][1]\n",
    "        if team in [b1,b2,b3]:\n",
    "        #Team is on blue alliance, grab red alliance average OPR\n",
    "            scoreList.append(modf.muRedOPR.loc[event+'_qm'+str(matchNumber)] - (((modf.muBlueOPR.loc[event+'_qm'+str(matchNumber)]*3) - teamVar.OPR.loc[team] + avgOPR )/3))\n",
    "        elif team in [r1,r2,r3]:\n",
    "            scoreList.append(modf.muBlueOPR.loc[event+'_qm'+str(matchNumber)] - (((modf.muRedOPR.loc[event+'_qm'+str(matchNumber)]*3) - teamVar.OPR.loc[team] + avgOPR )/3))\n",
    "    scheduleStrength[team] = stat.mean(scoreList)\n"
   ],
   "metadata": {
    "collapsed": false,
    "pycharm": {
     "name": "#%%\n"
    }
   }
  },
  {
   "cell_type": "code",
   "execution_count": 267,
   "outputs": [],
   "source": [
    "ssdf=pd.DataFrame.from_dict(data=scheduleStrength,orient='index',columns=['scheduleStrength'])\n",
    "ssdf.to_csv(\"scheduleStrength.csv\")\n"
   ],
   "metadata": {
    "collapsed": false,
    "pycharm": {
     "name": "#%%\n"
    }
   }
  },
  {
   "cell_type": "code",
   "execution_count": 268,
   "outputs": [],
   "source": [
    "teamVar['scheduleStrength'] = ssdf.scheduleStrength"
   ],
   "metadata": {
    "collapsed": false,
    "pycharm": {
     "name": "#%%\n"
    }
   }
  },
  {
   "cell_type": "code",
   "execution_count": 269,
   "outputs": [
    {
     "data": {
      "text/plain": "      Rank        OPR        DPR       CCWM  teleopOPR    autoOPR  endgameOPR  \\\n93      37  32.144447  37.727717  -5.583270  26.121562   5.119497   19.175494   \n167      7  43.747765  23.415045  20.332720  31.894065  13.209221   20.984938   \n1816     1  67.689492  37.457741  30.231750  42.211382  18.732440   27.846314   \n2169    54  30.509040  41.054378 -10.545338  13.884840  13.404815    0.311722   \n2175    17  39.457390  14.872658  24.584731  17.102072   9.361796    7.582447   \n...    ...        ...        ...        ...        ...        ...         ...   \n7797    10  46.703897  37.015853   9.688044  27.348440  13.317707   20.437767   \n7864    32  18.991029  12.627231   6.363798   9.386475   9.943455    7.128608   \n7893    58   8.407442  34.005373 -25.597930   1.204146   8.665963   -0.893819   \n8372    50  12.587078  35.657358 -23.070280   5.718904   1.874498    6.180580   \n8416    18  32.530419  46.642270 -14.111851  16.998800   1.261874   17.387301   \n\n      scheduleStrength  \n93            3.535110  \n167          -2.982333  \n1816         -0.894715  \n2169         -2.288619  \n2175         -1.931328  \n...                ...  \n7797          2.621150  \n7864         -5.800205  \n7893          2.389284  \n8372          1.518821  \n8416          0.597940  \n\n[63 rows x 8 columns]",
      "text/html": "<div>\n<style scoped>\n    .dataframe tbody tr th:only-of-type {\n        vertical-align: middle;\n    }\n\n    .dataframe tbody tr th {\n        vertical-align: top;\n    }\n\n    .dataframe thead th {\n        text-align: right;\n    }\n</style>\n<table border=\"1\" class=\"dataframe\">\n  <thead>\n    <tr style=\"text-align: right;\">\n      <th></th>\n      <th>Rank</th>\n      <th>OPR</th>\n      <th>DPR</th>\n      <th>CCWM</th>\n      <th>teleopOPR</th>\n      <th>autoOPR</th>\n      <th>endgameOPR</th>\n      <th>scheduleStrength</th>\n    </tr>\n  </thead>\n  <tbody>\n    <tr>\n      <th>93</th>\n      <td>37</td>\n      <td>32.144447</td>\n      <td>37.727717</td>\n      <td>-5.583270</td>\n      <td>26.121562</td>\n      <td>5.119497</td>\n      <td>19.175494</td>\n      <td>3.535110</td>\n    </tr>\n    <tr>\n      <th>167</th>\n      <td>7</td>\n      <td>43.747765</td>\n      <td>23.415045</td>\n      <td>20.332720</td>\n      <td>31.894065</td>\n      <td>13.209221</td>\n      <td>20.984938</td>\n      <td>-2.982333</td>\n    </tr>\n    <tr>\n      <th>1816</th>\n      <td>1</td>\n      <td>67.689492</td>\n      <td>37.457741</td>\n      <td>30.231750</td>\n      <td>42.211382</td>\n      <td>18.732440</td>\n      <td>27.846314</td>\n      <td>-0.894715</td>\n    </tr>\n    <tr>\n      <th>2169</th>\n      <td>54</td>\n      <td>30.509040</td>\n      <td>41.054378</td>\n      <td>-10.545338</td>\n      <td>13.884840</td>\n      <td>13.404815</td>\n      <td>0.311722</td>\n      <td>-2.288619</td>\n    </tr>\n    <tr>\n      <th>2175</th>\n      <td>17</td>\n      <td>39.457390</td>\n      <td>14.872658</td>\n      <td>24.584731</td>\n      <td>17.102072</td>\n      <td>9.361796</td>\n      <td>7.582447</td>\n      <td>-1.931328</td>\n    </tr>\n    <tr>\n      <th>...</th>\n      <td>...</td>\n      <td>...</td>\n      <td>...</td>\n      <td>...</td>\n      <td>...</td>\n      <td>...</td>\n      <td>...</td>\n      <td>...</td>\n    </tr>\n    <tr>\n      <th>7797</th>\n      <td>10</td>\n      <td>46.703897</td>\n      <td>37.015853</td>\n      <td>9.688044</td>\n      <td>27.348440</td>\n      <td>13.317707</td>\n      <td>20.437767</td>\n      <td>2.621150</td>\n    </tr>\n    <tr>\n      <th>7864</th>\n      <td>32</td>\n      <td>18.991029</td>\n      <td>12.627231</td>\n      <td>6.363798</td>\n      <td>9.386475</td>\n      <td>9.943455</td>\n      <td>7.128608</td>\n      <td>-5.800205</td>\n    </tr>\n    <tr>\n      <th>7893</th>\n      <td>58</td>\n      <td>8.407442</td>\n      <td>34.005373</td>\n      <td>-25.597930</td>\n      <td>1.204146</td>\n      <td>8.665963</td>\n      <td>-0.893819</td>\n      <td>2.389284</td>\n    </tr>\n    <tr>\n      <th>8372</th>\n      <td>50</td>\n      <td>12.587078</td>\n      <td>35.657358</td>\n      <td>-23.070280</td>\n      <td>5.718904</td>\n      <td>1.874498</td>\n      <td>6.180580</td>\n      <td>1.518821</td>\n    </tr>\n    <tr>\n      <th>8416</th>\n      <td>18</td>\n      <td>32.530419</td>\n      <td>46.642270</td>\n      <td>-14.111851</td>\n      <td>16.998800</td>\n      <td>1.261874</td>\n      <td>17.387301</td>\n      <td>0.597940</td>\n    </tr>\n  </tbody>\n</table>\n<p>63 rows × 8 columns</p>\n</div>"
     },
     "execution_count": 269,
     "metadata": {},
     "output_type": "execute_result"
    }
   ],
   "source": [
    "teamVar"
   ],
   "metadata": {
    "collapsed": false,
    "pycharm": {
     "name": "#%%\n"
    }
   }
  },
  {
   "cell_type": "code",
   "execution_count": 270,
   "outputs": [
    {
     "ename": "KeyError",
     "evalue": "''",
     "output_type": "error",
     "traceback": [
      "\u001B[1;31m---------------------------------------------------------------------------\u001B[0m",
      "\u001B[1;31mKeyError\u001B[0m                                  Traceback (most recent call last)",
      "\u001B[1;32m~\\anaconda3\\lib\\site-packages\\pandas\\core\\indexes\\base.py\u001B[0m in \u001B[0;36mget_loc\u001B[1;34m(self, key, method, tolerance)\u001B[0m\n\u001B[0;32m   3360\u001B[0m             \u001B[1;32mtry\u001B[0m\u001B[1;33m:\u001B[0m\u001B[1;33m\u001B[0m\u001B[1;33m\u001B[0m\u001B[0m\n\u001B[1;32m-> 3361\u001B[1;33m                 \u001B[1;32mreturn\u001B[0m \u001B[0mself\u001B[0m\u001B[1;33m.\u001B[0m\u001B[0m_engine\u001B[0m\u001B[1;33m.\u001B[0m\u001B[0mget_loc\u001B[0m\u001B[1;33m(\u001B[0m\u001B[0mcasted_key\u001B[0m\u001B[1;33m)\u001B[0m\u001B[1;33m\u001B[0m\u001B[1;33m\u001B[0m\u001B[0m\n\u001B[0m\u001B[0;32m   3362\u001B[0m             \u001B[1;32mexcept\u001B[0m \u001B[0mKeyError\u001B[0m \u001B[1;32mas\u001B[0m \u001B[0merr\u001B[0m\u001B[1;33m:\u001B[0m\u001B[1;33m\u001B[0m\u001B[1;33m\u001B[0m\u001B[0m\n",
      "\u001B[1;32m~\\anaconda3\\lib\\site-packages\\pandas\\_libs\\index.pyx\u001B[0m in \u001B[0;36mpandas._libs.index.IndexEngine.get_loc\u001B[1;34m()\u001B[0m\n",
      "\u001B[1;32m~\\anaconda3\\lib\\site-packages\\pandas\\_libs\\index.pyx\u001B[0m in \u001B[0;36mpandas._libs.index.IndexEngine.get_loc\u001B[1;34m()\u001B[0m\n",
      "\u001B[1;32mpandas\\_libs\\hashtable_class_helper.pxi\u001B[0m in \u001B[0;36mpandas._libs.hashtable.PyObjectHashTable.get_item\u001B[1;34m()\u001B[0m\n",
      "\u001B[1;32mpandas\\_libs\\hashtable_class_helper.pxi\u001B[0m in \u001B[0;36mpandas._libs.hashtable.PyObjectHashTable.get_item\u001B[1;34m()\u001B[0m\n",
      "\u001B[1;31mKeyError\u001B[0m: ''",
      "\nThe above exception was the direct cause of the following exception:\n",
      "\u001B[1;31mKeyError\u001B[0m                                  Traceback (most recent call last)",
      "\u001B[1;32m~\\AppData\\Local\\Temp/ipykernel_14508/80235805.py\u001B[0m in \u001B[0;36m<module>\u001B[1;34m\u001B[0m\n\u001B[1;32m----> 1\u001B[1;33m \u001B[0mteamVar\u001B[0m\u001B[1;33m.\u001B[0m\u001B[0mloc\u001B[0m\u001B[1;33m[\u001B[0m\u001B[1;34m''\u001B[0m\u001B[1;33m]\u001B[0m\u001B[1;33m\u001B[0m\u001B[1;33m\u001B[0m\u001B[0m\n\u001B[0m\u001B[0;32m      2\u001B[0m \u001B[0mteamVar\u001B[0m\u001B[1;33m.\u001B[0m\u001B[0mto_csv\u001B[0m\u001B[1;33m(\u001B[0m\u001B[1;34m'teamVariables.csv'\u001B[0m\u001B[1;33m)\u001B[0m\u001B[1;33m\u001B[0m\u001B[1;33m\u001B[0m\u001B[0m\n",
      "\u001B[1;32m~\\anaconda3\\lib\\site-packages\\pandas\\core\\indexing.py\u001B[0m in \u001B[0;36m__getitem__\u001B[1;34m(self, key)\u001B[0m\n\u001B[0;32m    929\u001B[0m \u001B[1;33m\u001B[0m\u001B[0m\n\u001B[0;32m    930\u001B[0m             \u001B[0mmaybe_callable\u001B[0m \u001B[1;33m=\u001B[0m \u001B[0mcom\u001B[0m\u001B[1;33m.\u001B[0m\u001B[0mapply_if_callable\u001B[0m\u001B[1;33m(\u001B[0m\u001B[0mkey\u001B[0m\u001B[1;33m,\u001B[0m \u001B[0mself\u001B[0m\u001B[1;33m.\u001B[0m\u001B[0mobj\u001B[0m\u001B[1;33m)\u001B[0m\u001B[1;33m\u001B[0m\u001B[1;33m\u001B[0m\u001B[0m\n\u001B[1;32m--> 931\u001B[1;33m             \u001B[1;32mreturn\u001B[0m \u001B[0mself\u001B[0m\u001B[1;33m.\u001B[0m\u001B[0m_getitem_axis\u001B[0m\u001B[1;33m(\u001B[0m\u001B[0mmaybe_callable\u001B[0m\u001B[1;33m,\u001B[0m \u001B[0maxis\u001B[0m\u001B[1;33m=\u001B[0m\u001B[0maxis\u001B[0m\u001B[1;33m)\u001B[0m\u001B[1;33m\u001B[0m\u001B[1;33m\u001B[0m\u001B[0m\n\u001B[0m\u001B[0;32m    932\u001B[0m \u001B[1;33m\u001B[0m\u001B[0m\n\u001B[0;32m    933\u001B[0m     \u001B[1;32mdef\u001B[0m \u001B[0m_is_scalar_access\u001B[0m\u001B[1;33m(\u001B[0m\u001B[0mself\u001B[0m\u001B[1;33m,\u001B[0m \u001B[0mkey\u001B[0m\u001B[1;33m:\u001B[0m \u001B[0mtuple\u001B[0m\u001B[1;33m)\u001B[0m\u001B[1;33m:\u001B[0m\u001B[1;33m\u001B[0m\u001B[1;33m\u001B[0m\u001B[0m\n",
      "\u001B[1;32m~\\anaconda3\\lib\\site-packages\\pandas\\core\\indexing.py\u001B[0m in \u001B[0;36m_getitem_axis\u001B[1;34m(self, key, axis)\u001B[0m\n\u001B[0;32m   1162\u001B[0m         \u001B[1;31m# fall thru to straight lookup\u001B[0m\u001B[1;33m\u001B[0m\u001B[1;33m\u001B[0m\u001B[0m\n\u001B[0;32m   1163\u001B[0m         \u001B[0mself\u001B[0m\u001B[1;33m.\u001B[0m\u001B[0m_validate_key\u001B[0m\u001B[1;33m(\u001B[0m\u001B[0mkey\u001B[0m\u001B[1;33m,\u001B[0m \u001B[0maxis\u001B[0m\u001B[1;33m)\u001B[0m\u001B[1;33m\u001B[0m\u001B[1;33m\u001B[0m\u001B[0m\n\u001B[1;32m-> 1164\u001B[1;33m         \u001B[1;32mreturn\u001B[0m \u001B[0mself\u001B[0m\u001B[1;33m.\u001B[0m\u001B[0m_get_label\u001B[0m\u001B[1;33m(\u001B[0m\u001B[0mkey\u001B[0m\u001B[1;33m,\u001B[0m \u001B[0maxis\u001B[0m\u001B[1;33m=\u001B[0m\u001B[0maxis\u001B[0m\u001B[1;33m)\u001B[0m\u001B[1;33m\u001B[0m\u001B[1;33m\u001B[0m\u001B[0m\n\u001B[0m\u001B[0;32m   1165\u001B[0m \u001B[1;33m\u001B[0m\u001B[0m\n\u001B[0;32m   1166\u001B[0m     \u001B[1;32mdef\u001B[0m \u001B[0m_get_slice_axis\u001B[0m\u001B[1;33m(\u001B[0m\u001B[0mself\u001B[0m\u001B[1;33m,\u001B[0m \u001B[0mslice_obj\u001B[0m\u001B[1;33m:\u001B[0m \u001B[0mslice\u001B[0m\u001B[1;33m,\u001B[0m \u001B[0maxis\u001B[0m\u001B[1;33m:\u001B[0m \u001B[0mint\u001B[0m\u001B[1;33m)\u001B[0m\u001B[1;33m:\u001B[0m\u001B[1;33m\u001B[0m\u001B[1;33m\u001B[0m\u001B[0m\n",
      "\u001B[1;32m~\\anaconda3\\lib\\site-packages\\pandas\\core\\indexing.py\u001B[0m in \u001B[0;36m_get_label\u001B[1;34m(self, label, axis)\u001B[0m\n\u001B[0;32m   1111\u001B[0m     \u001B[1;32mdef\u001B[0m \u001B[0m_get_label\u001B[0m\u001B[1;33m(\u001B[0m\u001B[0mself\u001B[0m\u001B[1;33m,\u001B[0m \u001B[0mlabel\u001B[0m\u001B[1;33m,\u001B[0m \u001B[0maxis\u001B[0m\u001B[1;33m:\u001B[0m \u001B[0mint\u001B[0m\u001B[1;33m)\u001B[0m\u001B[1;33m:\u001B[0m\u001B[1;33m\u001B[0m\u001B[1;33m\u001B[0m\u001B[0m\n\u001B[0;32m   1112\u001B[0m         \u001B[1;31m# GH#5667 this will fail if the label is not present in the axis.\u001B[0m\u001B[1;33m\u001B[0m\u001B[1;33m\u001B[0m\u001B[0m\n\u001B[1;32m-> 1113\u001B[1;33m         \u001B[1;32mreturn\u001B[0m \u001B[0mself\u001B[0m\u001B[1;33m.\u001B[0m\u001B[0mobj\u001B[0m\u001B[1;33m.\u001B[0m\u001B[0mxs\u001B[0m\u001B[1;33m(\u001B[0m\u001B[0mlabel\u001B[0m\u001B[1;33m,\u001B[0m \u001B[0maxis\u001B[0m\u001B[1;33m=\u001B[0m\u001B[0maxis\u001B[0m\u001B[1;33m)\u001B[0m\u001B[1;33m\u001B[0m\u001B[1;33m\u001B[0m\u001B[0m\n\u001B[0m\u001B[0;32m   1114\u001B[0m \u001B[1;33m\u001B[0m\u001B[0m\n\u001B[0;32m   1115\u001B[0m     \u001B[1;32mdef\u001B[0m \u001B[0m_handle_lowerdim_multi_index_axis0\u001B[0m\u001B[1;33m(\u001B[0m\u001B[0mself\u001B[0m\u001B[1;33m,\u001B[0m \u001B[0mtup\u001B[0m\u001B[1;33m:\u001B[0m \u001B[0mtuple\u001B[0m\u001B[1;33m)\u001B[0m\u001B[1;33m:\u001B[0m\u001B[1;33m\u001B[0m\u001B[1;33m\u001B[0m\u001B[0m\n",
      "\u001B[1;32m~\\anaconda3\\lib\\site-packages\\pandas\\core\\generic.py\u001B[0m in \u001B[0;36mxs\u001B[1;34m(self, key, axis, level, drop_level)\u001B[0m\n\u001B[0;32m   3774\u001B[0m                 \u001B[1;32mraise\u001B[0m \u001B[0mTypeError\u001B[0m\u001B[1;33m(\u001B[0m\u001B[1;34mf\"Expected label or tuple of labels, got {key}\"\u001B[0m\u001B[1;33m)\u001B[0m \u001B[1;32mfrom\u001B[0m \u001B[0me\u001B[0m\u001B[1;33m\u001B[0m\u001B[1;33m\u001B[0m\u001B[0m\n\u001B[0;32m   3775\u001B[0m         \u001B[1;32melse\u001B[0m\u001B[1;33m:\u001B[0m\u001B[1;33m\u001B[0m\u001B[1;33m\u001B[0m\u001B[0m\n\u001B[1;32m-> 3776\u001B[1;33m             \u001B[0mloc\u001B[0m \u001B[1;33m=\u001B[0m \u001B[0mindex\u001B[0m\u001B[1;33m.\u001B[0m\u001B[0mget_loc\u001B[0m\u001B[1;33m(\u001B[0m\u001B[0mkey\u001B[0m\u001B[1;33m)\u001B[0m\u001B[1;33m\u001B[0m\u001B[1;33m\u001B[0m\u001B[0m\n\u001B[0m\u001B[0;32m   3777\u001B[0m \u001B[1;33m\u001B[0m\u001B[0m\n\u001B[0;32m   3778\u001B[0m             \u001B[1;32mif\u001B[0m \u001B[0misinstance\u001B[0m\u001B[1;33m(\u001B[0m\u001B[0mloc\u001B[0m\u001B[1;33m,\u001B[0m \u001B[0mnp\u001B[0m\u001B[1;33m.\u001B[0m\u001B[0mndarray\u001B[0m\u001B[1;33m)\u001B[0m\u001B[1;33m:\u001B[0m\u001B[1;33m\u001B[0m\u001B[1;33m\u001B[0m\u001B[0m\n",
      "\u001B[1;32m~\\anaconda3\\lib\\site-packages\\pandas\\core\\indexes\\base.py\u001B[0m in \u001B[0;36mget_loc\u001B[1;34m(self, key, method, tolerance)\u001B[0m\n\u001B[0;32m   3361\u001B[0m                 \u001B[1;32mreturn\u001B[0m \u001B[0mself\u001B[0m\u001B[1;33m.\u001B[0m\u001B[0m_engine\u001B[0m\u001B[1;33m.\u001B[0m\u001B[0mget_loc\u001B[0m\u001B[1;33m(\u001B[0m\u001B[0mcasted_key\u001B[0m\u001B[1;33m)\u001B[0m\u001B[1;33m\u001B[0m\u001B[1;33m\u001B[0m\u001B[0m\n\u001B[0;32m   3362\u001B[0m             \u001B[1;32mexcept\u001B[0m \u001B[0mKeyError\u001B[0m \u001B[1;32mas\u001B[0m \u001B[0merr\u001B[0m\u001B[1;33m:\u001B[0m\u001B[1;33m\u001B[0m\u001B[1;33m\u001B[0m\u001B[0m\n\u001B[1;32m-> 3363\u001B[1;33m                 \u001B[1;32mraise\u001B[0m \u001B[0mKeyError\u001B[0m\u001B[1;33m(\u001B[0m\u001B[0mkey\u001B[0m\u001B[1;33m)\u001B[0m \u001B[1;32mfrom\u001B[0m \u001B[0merr\u001B[0m\u001B[1;33m\u001B[0m\u001B[1;33m\u001B[0m\u001B[0m\n\u001B[0m\u001B[0;32m   3364\u001B[0m \u001B[1;33m\u001B[0m\u001B[0m\n\u001B[0;32m   3365\u001B[0m         \u001B[1;32mif\u001B[0m \u001B[0mis_scalar\u001B[0m\u001B[1;33m(\u001B[0m\u001B[0mkey\u001B[0m\u001B[1;33m)\u001B[0m \u001B[1;32mand\u001B[0m \u001B[0misna\u001B[0m\u001B[1;33m(\u001B[0m\u001B[0mkey\u001B[0m\u001B[1;33m)\u001B[0m \u001B[1;32mand\u001B[0m \u001B[1;32mnot\u001B[0m \u001B[0mself\u001B[0m\u001B[1;33m.\u001B[0m\u001B[0mhasnans\u001B[0m\u001B[1;33m:\u001B[0m\u001B[1;33m\u001B[0m\u001B[1;33m\u001B[0m\u001B[0m\n",
      "\u001B[1;31mKeyError\u001B[0m: ''"
     ]
    }
   ],
   "source": [
    "teamVar.loc['']\n",
    "teamVar.to_csv('teamVariables.csv')"
   ],
   "metadata": {
    "collapsed": false,
    "pycharm": {
     "name": "#%%\n"
    }
   }
  },
  {
   "cell_type": "code",
   "execution_count": null,
   "outputs": [],
   "source": [
    "def visualize(x,y):\n",
    "    plt.scatter(x,y)\n",
    "    theta = np.polyfit(x,y,1)\n",
    "    y_line = theta[1] + theta[0] * x\n",
    "    plt.plot(x,y_line,'r')\n",
    "    plt.xlabel(x.name)\n",
    "    plt.ylabel(y.name)\n",
    "    plt.show()\n",
    "    slope, intercept, r_value, p_value, std_err = scipy.stats.linregress(x, y)\n",
    "    print(\"Slope: \"+ str(\"%.2f\"%slope) + \" Intercept: \" + str(\"%.2f\" %intercept) + \" R Value: \" + str(\"%.2f\" %r_value) + \" R^2: \"+str(\"%.2f\" %r_value**2) + \" P Value: \"+str(\"%.2f\" %p_value)+\" Standard Error: \" + str(\"%.2f\" %std_err))"
   ],
   "metadata": {
    "collapsed": false,
    "pycharm": {
     "name": "#%%\n"
    }
   }
  },
  {
   "cell_type": "code",
   "execution_count": null,
   "outputs": [],
   "source": [
    "visualize(teamVar.OPR,teamVar.Rank)"
   ],
   "metadata": {
    "collapsed": false,
    "pycharm": {
     "name": "#%%\n"
    }
   }
  },
  {
   "cell_type": "code",
   "execution_count": null,
   "outputs": [],
   "source": [
    "dict(tba.event_predictions(event))\n"
   ],
   "metadata": {
    "collapsed": false,
    "pycharm": {
     "name": "#%%\n"
    }
   }
  }
 ],
 "metadata": {
  "kernelspec": {
   "display_name": "Python 3",
   "language": "python",
   "name": "python3"
  },
  "language_info": {
   "codemirror_mode": {
    "name": "ipython",
    "version": 2
   },
   "file_extension": ".py",
   "mimetype": "text/x-python",
   "name": "python",
   "nbconvert_exporter": "python",
   "pygments_lexer": "ipython2",
   "version": "2.7.6"
  }
 },
 "nbformat": 4,
 "nbformat_minor": 0
}